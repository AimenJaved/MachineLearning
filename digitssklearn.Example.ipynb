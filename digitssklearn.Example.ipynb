{
 "cells": [
  {
   "cell_type": "code",
   "execution_count": 62,
   "metadata": {},
   "outputs": [],
   "source": [
    "from sklearn import datasets\n",
    "# Get data or import Data\n",
    "dig= datasets.load_digits()"
   ]
  },
  {
   "cell_type": "code",
   "execution_count": 49,
   "metadata": {},
   "outputs": [],
   "source": [
    "# Preprocess the Data"
   ]
  },
  {
   "cell_type": "code",
   "execution_count": 63,
   "metadata": {},
   "outputs": [],
   "source": [
    "# split it in features and labels/targets\n",
    "# featurization\n",
    "features = dig.data\n",
    "labels = dig.target"
   ]
  },
  {
   "cell_type": "code",
   "execution_count": 64,
   "metadata": {},
   "outputs": [
    {
     "data": {
      "text/plain": [
       "array([[ 0.,  0.,  5., ...,  0.,  0.,  0.],\n",
       "       [ 0.,  0.,  0., ..., 10.,  0.,  0.],\n",
       "       [ 0.,  0.,  0., ..., 16.,  9.,  0.],\n",
       "       ...,\n",
       "       [ 0.,  0.,  1., ...,  6.,  0.,  0.],\n",
       "       [ 0.,  0.,  2., ..., 12.,  0.,  0.],\n",
       "       [ 0.,  0., 10., ..., 12.,  1.,  0.]])"
      ]
     },
     "execution_count": 64,
     "metadata": {},
     "output_type": "execute_result"
    }
   ],
   "source": [
    "features"
   ]
  },
  {
   "cell_type": "code",
   "execution_count": 65,
   "metadata": {},
   "outputs": [
    {
     "data": {
      "text/plain": [
       "array([0, 1, 2, ..., 8, 9, 8])"
      ]
     },
     "execution_count": 65,
     "metadata": {},
     "output_type": "execute_result"
    }
   ],
   "source": [
    "labels"
   ]
  },
  {
   "cell_type": "code",
   "execution_count": 66,
   "metadata": {},
   "outputs": [],
   "source": [
    "from sklearn.model_selection import train_test_split\n",
    "# split into traning and testing\n",
    "X_train, X_test, y_train, y_test = train_test_split(features, labels, test_size=0.2)"
   ]
  },
  {
   "cell_type": "code",
   "execution_count": 67,
   "metadata": {},
   "outputs": [
    {
     "data": {
      "text/plain": [
       "array([[ 0.,  0.,  8., ...,  8.,  0.,  0.],\n",
       "       [ 0.,  6., 16., ..., 11.,  1.,  0.],\n",
       "       [ 0.,  0.,  2., ...,  0.,  0.,  0.],\n",
       "       ...,\n",
       "       [ 0.,  0.,  4., ...,  3.,  0.,  0.],\n",
       "       [ 0.,  1.,  6., ...,  8.,  0.,  0.],\n",
       "       [ 0.,  0.,  0., ..., 12.,  0.,  0.]])"
      ]
     },
     "execution_count": 67,
     "metadata": {},
     "output_type": "execute_result"
    }
   ],
   "source": [
    "X_train"
   ]
  },
  {
   "cell_type": "code",
   "execution_count": 68,
   "metadata": {},
   "outputs": [],
   "source": [
    "# Choose a Machine Learning model\n",
    "from sklearn import svm "
   ]
  },
  {
   "cell_type": "code",
   "execution_count": 69,
   "metadata": {},
   "outputs": [],
   "source": [
    "# Train it\n",
    "model = svm.SVC()"
   ]
  },
  {
   "cell_type": "code",
   "execution_count": 70,
   "metadata": {},
   "outputs": [
    {
     "data": {
      "text/plain": [
       "SVC()"
      ]
     },
     "execution_count": 70,
     "metadata": {},
     "output_type": "execute_result"
    }
   ],
   "source": [
    "model.fit(X_train,y_train)"
   ]
  },
  {
   "cell_type": "code",
   "execution_count": 71,
   "metadata": {},
   "outputs": [
    {
     "data": {
      "text/plain": [
       "array([4, 4, 4, 7, 6, 9, 7, 7, 8, 2, 0, 7, 8, 9, 1, 0, 6, 7, 7, 1, 1, 2,\n",
       "       7, 9, 6, 5, 0, 3, 9, 0, 5, 9, 0, 7, 2, 6, 5, 5, 4, 6, 4, 3, 5, 4,\n",
       "       8, 2, 0, 2, 9, 4, 0, 5, 5, 1, 4, 0, 1, 6, 7, 2, 5, 2, 6, 9, 3, 8,\n",
       "       3, 8, 3, 4, 9, 3, 4, 3, 1, 6, 4, 3, 2, 2, 5, 0, 8, 6, 2, 1, 2, 7,\n",
       "       2, 0, 4, 1, 6, 0, 6, 2, 1, 3, 2, 0, 3, 1, 1, 1, 2, 5, 2, 3, 1, 4,\n",
       "       1, 8, 3, 5, 3, 6, 1, 2, 8, 9, 9, 9, 7, 8, 2, 6, 6, 6, 3, 6, 8, 5,\n",
       "       0, 7, 4, 8, 5, 1, 0, 6, 3, 0, 4, 2, 9, 9, 0, 8, 4, 3, 9, 2, 5, 9,\n",
       "       4, 4, 1, 8, 2, 4, 3, 8, 9, 2, 2, 6, 7, 4, 1, 8, 5, 1, 9, 8, 3, 0,\n",
       "       7, 1, 2, 7, 8, 7, 0, 9, 8, 6, 1, 1, 9, 4, 9, 5, 0, 1, 6, 4, 3, 2,\n",
       "       5, 6, 6, 9, 6, 2, 0, 2, 6, 8, 0, 0, 8, 1, 9, 1, 2, 3, 2, 7, 2, 1,\n",
       "       9, 2, 5, 9, 2, 9, 5, 1, 6, 7, 8, 1, 3, 4, 1, 5, 3, 5, 8, 5, 5, 2,\n",
       "       6, 6, 9, 6, 0, 5, 2, 2, 1, 1, 9, 7, 9, 2, 4, 8, 0, 4, 4, 4, 5, 2,\n",
       "       5, 5, 9, 6, 0, 7, 2, 6, 5, 7, 8, 3, 7, 6, 9, 7, 7, 1, 6, 7, 8, 2,\n",
       "       2, 7, 7, 2, 0, 7, 5, 6, 0, 7, 2, 7, 5, 6, 5, 7, 9, 1, 9, 3, 1, 2,\n",
       "       2, 6, 0, 0, 4, 0, 3, 4, 9, 9, 2, 9, 6, 2, 0, 4, 0, 7, 8, 3, 2, 3,\n",
       "       1, 3, 8, 1, 9, 5, 6, 0, 0, 9, 4, 3, 9, 6, 8, 6, 6, 6, 5, 6, 6, 8,\n",
       "       9, 4, 0, 4, 4, 4, 6, 9])"
      ]
     },
     "execution_count": 71,
     "metadata": {},
     "output_type": "execute_result"
    }
   ],
   "source": [
    "# predict using the model\n",
    "model.predict(X_test)"
   ]
  },
  {
   "cell_type": "code",
   "execution_count": 72,
   "metadata": {},
   "outputs": [
    {
     "data": {
      "text/plain": [
       "array([4, 4, 4, 7, 6, 9, 7, 7, 8, 2, 0, 7, 8, 9, 1, 0, 6, 7, 7, 1, 1, 2,\n",
       "       7, 9, 6, 5, 0, 3, 9, 0, 5, 9, 0, 7, 2, 6, 5, 5, 4, 6, 4, 3, 5, 4,\n",
       "       8, 2, 0, 2, 9, 4, 0, 5, 5, 1, 0, 0, 1, 6, 7, 2, 5, 2, 6, 9, 3, 8,\n",
       "       3, 8, 3, 4, 7, 3, 4, 3, 1, 6, 4, 3, 2, 2, 5, 0, 8, 6, 2, 1, 2, 7,\n",
       "       2, 0, 4, 1, 6, 0, 6, 2, 1, 3, 2, 0, 3, 1, 1, 1, 2, 5, 2, 3, 1, 4,\n",
       "       1, 8, 3, 5, 3, 6, 1, 2, 8, 9, 9, 9, 7, 3, 2, 6, 6, 6, 3, 6, 8, 5,\n",
       "       0, 7, 4, 8, 5, 1, 0, 6, 3, 0, 4, 2, 9, 9, 0, 8, 4, 3, 9, 2, 5, 9,\n",
       "       4, 4, 1, 8, 2, 4, 3, 8, 9, 2, 2, 6, 7, 4, 1, 8, 5, 1, 9, 8, 3, 0,\n",
       "       7, 1, 2, 7, 8, 7, 0, 9, 8, 6, 1, 1, 9, 4, 9, 5, 0, 1, 6, 4, 3, 2,\n",
       "       5, 6, 6, 9, 6, 2, 0, 2, 6, 8, 0, 0, 8, 1, 9, 1, 2, 3, 2, 7, 2, 1,\n",
       "       9, 2, 5, 9, 2, 9, 5, 1, 6, 7, 8, 1, 3, 4, 1, 5, 3, 5, 8, 5, 5, 2,\n",
       "       5, 6, 9, 6, 0, 5, 2, 2, 1, 1, 9, 7, 9, 2, 4, 8, 0, 4, 4, 4, 5, 2,\n",
       "       5, 5, 9, 6, 0, 7, 2, 6, 5, 7, 8, 3, 7, 6, 9, 7, 7, 1, 6, 7, 8, 2,\n",
       "       2, 7, 7, 2, 0, 7, 5, 6, 0, 7, 2, 7, 5, 6, 5, 7, 9, 1, 9, 3, 1, 2,\n",
       "       2, 6, 0, 0, 4, 0, 3, 4, 9, 9, 2, 9, 6, 2, 0, 4, 0, 7, 8, 3, 2, 3,\n",
       "       1, 3, 8, 1, 9, 5, 6, 0, 0, 9, 4, 3, 9, 6, 8, 6, 6, 6, 5, 6, 6, 8,\n",
       "       9, 4, 0, 4, 4, 4, 6, 9])"
      ]
     },
     "execution_count": 72,
     "metadata": {},
     "output_type": "execute_result"
    }
   ],
   "source": [
    "y_test"
   ]
  },
  {
   "cell_type": "code",
   "execution_count": 73,
   "metadata": {},
   "outputs": [],
   "source": [
    "# Save the trained model for later use\n",
    "import pickle\n",
    "with open('digits.pkl', 'wb') as f:\n",
    "    pickle.dump(model, f)"
   ]
  }
 ],
 "metadata": {
  "kernelspec": {
   "display_name": "Python 3",
   "language": "python",
   "name": "python3"
  },
  "language_info": {
   "codemirror_mode": {
    "name": "ipython",
    "version": 3
   },
   "file_extension": ".py",
   "mimetype": "text/x-python",
   "name": "python",
   "nbconvert_exporter": "python",
   "pygments_lexer": "ipython3",
   "version": "3.8.0"
  }
 },
 "nbformat": 4,
 "nbformat_minor": 4
}
